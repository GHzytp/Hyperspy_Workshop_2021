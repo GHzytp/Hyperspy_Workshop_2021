{
 "cells": [
  {
   "cell_type": "markdown",
   "metadata": {
    "toc": true
   },
   "source": [
    "<h1>Table of Contents<span class=\"tocSkip\"></span></h1>\n",
    "<div class=\"toc\"><ul class=\"toc-item\"><li><span><a href=\"#Create-dataset\" data-toc-modified-id=\"Create-dataset-1\"><span class=\"toc-item-num\">1&nbsp;&nbsp;</span>Create dataset</a></span><ul class=\"toc-item\"><li><span><a href=\"#ROIs\" data-toc-modified-id=\"ROIs-1.1\"><span class=\"toc-item-num\">1.1&nbsp;&nbsp;</span>ROIs</a></span><ul class=\"toc-item\"><li><span><a href=\"#ROI-in-signal-dimension\" data-toc-modified-id=\"ROI-in-signal-dimension-1.1.1\"><span class=\"toc-item-num\">1.1.1&nbsp;&nbsp;</span>ROI in signal dimension</a></span></li></ul></li><li><span><a href=\"#ROI-in-navigation-dimension\" data-toc-modified-id=\"ROI-in-navigation-dimension-1.2\"><span class=\"toc-item-num\">1.2&nbsp;&nbsp;</span>ROI in navigation dimension</a></span></li><li><span><a href=\"#Decomposition\" data-toc-modified-id=\"Decomposition-1.3\"><span class=\"toc-item-num\">1.3&nbsp;&nbsp;</span>Decomposition</a></span></li></ul></li><li><span><a href=\"#Curve-fitting\" data-toc-modified-id=\"Curve-fitting-2\"><span class=\"toc-item-num\">2&nbsp;&nbsp;</span>Curve fitting</a></span></li></ul></div>"
   ]
  },
  {
   "cell_type": "markdown",
   "metadata": {},
   "source": [
    "# Create dataset"
   ]
  },
  {
   "cell_type": "markdown",
   "metadata": {},
   "source": [
    "For this tutorial we are going to start by creating a dataset that does not fit in the RAM. In particular a spectrum image of size "
   ]
  },
  {
   "cell_type": "code",
   "execution_count": 1,
   "metadata": {},
   "outputs": [],
   "source": [
    "%matplotlib qt"
   ]
  },
  {
   "cell_type": "code",
   "execution_count": 2,
   "metadata": {},
   "outputs": [],
   "source": [
    "import hyperspy.api as hs"
   ]
  },
  {
   "cell_type": "markdown",
   "metadata": {},
   "source": [
    "Let's import several libraries that we'll need to create the dataset"
   ]
  },
  {
   "cell_type": "code",
   "execution_count": 3,
   "metadata": {},
   "outputs": [],
   "source": [
    "import skimage.data\n",
    "import matplotlib.pyplot as plt\n",
    "import numpy as np\n",
    "import dask.array as da"
   ]
  },
  {
   "cell_type": "code",
   "execution_count": 6,
   "metadata": {},
   "outputs": [],
   "source": [
    "def size_in_GB(shape, dtype):\n",
    "    \"\"\"Print the size of an array in GB\n",
    "    \n",
    "    Parameters\n",
    "    ----------\n",
    "    shape: tuple\n",
    "        Shape of the array\n",
    "    dtype: string or numpy dtype\n",
    "        Valid numpy data type\n",
    "        \n",
    "    \"\"\"\n",
    "    size = np.prod(shape) * np.dtype(dtype).itemsize / 1e9\n",
    "    print(\"%.3f GB\" % size)"
   ]
  },
  {
   "cell_type": "code",
   "execution_count": 12,
   "metadata": {},
   "outputs": [
    {
     "name": "stdout",
     "output_type": "stream",
     "text": [
      "0.017 GB\n"
     ]
    }
   ],
   "source": [
    "size_in_GB((128,)*3, dtype=\"float\")"
   ]
  },
  {
   "cell_type": "markdown",
   "metadata": {},
   "source": [
    "First lets load 4 512x512 images from skimage, convert them to grey and stack them"
   ]
  },
  {
   "cell_type": "code",
   "execution_count": 13,
   "metadata": {},
   "outputs": [
    {
     "name": "stderr",
     "output_type": "stream",
     "text": [
      "/home/francisco/anaconda/anaconda/lib/python3.6/site-packages/skimage/data/__init__.py:63: UserWarning: `as_grey` has been deprecated in favor of `as_gray` and will be removed in v0.16.\n",
      "  warn('`as_grey` has been deprecated in favor of `as_gray`'\n",
      "/home/francisco/anaconda/anaconda/lib/python3.6/site-packages/skimage/data/__init__.py:63: UserWarning: `as_grey` has been deprecated in favor of `as_gray` and will be removed in v0.16.\n",
      "  warn('`as_grey` has been deprecated in favor of `as_gray`'\n",
      "/home/francisco/anaconda/anaconda/lib/python3.6/site-packages/skimage/data/__init__.py:63: UserWarning: `as_grey` has been deprecated in favor of `as_gray` and will be removed in v0.16.\n",
      "  warn('`as_grey` has been deprecated in favor of `as_gray`'\n",
      "/home/francisco/anaconda/anaconda/lib/python3.6/site-packages/skimage/data/__init__.py:63: UserWarning: `as_grey` has been deprecated in favor of `as_gray` and will be removed in v0.16.\n",
      "  warn('`as_grey` has been deprecated in favor of `as_gray`'\n"
     ]
    }
   ],
   "source": [
    "camera = hs.signals.Signal2D(skimage.data.load(\"camera.png\", as_grey=True))\n",
    "astronaut = hs.signals.Signal2D(skimage.data.load(\"astronaut.png\", as_grey=True))\n",
    "moon = hs.signals.Signal2D(skimage.data.load(\"moon.png\", as_grey=True))\n",
    "ihc = hs.signals.Signal2D(skimage.data.load(\"ihc.png\", as_grey=True))\n",
    "moon.change_dtype(\"float64\")\n",
    "moon.data /= moon.data.max()\n",
    "camera.change_dtype(\"float64\")\n",
    "camera.data /= camera.data.max()\n",
    "imgs = hs.stack([camera, astronaut, moon, ihc])"
   ]
  },
  {
   "cell_type": "code",
   "execution_count": 6,
   "metadata": {},
   "outputs": [
    {
     "data": {
      "text/plain": [
       "<Signal2D, title: Stack of , dimensions: (4|512, 512)>"
      ]
     },
     "execution_count": 6,
     "metadata": {},
     "output_type": "execute_result"
    }
   ],
   "source": [
    "imgs"
   ]
  },
  {
   "cell_type": "code",
   "execution_count": 7,
   "metadata": {},
   "outputs": [
    {
     "data": {
      "text/plain": [
       "[<matplotlib.axes._subplots.AxesSubplot at 0x7f9c612eb6a0>,\n",
       " <matplotlib.axes._subplots.AxesSubplot at 0x7f9be4675eb8>,\n",
       " <matplotlib.axes._subplots.AxesSubplot at 0x7f9be45eed30>,\n",
       " <matplotlib.axes._subplots.AxesSubplot at 0x7f9be4557320>]"
      ]
     },
     "execution_count": 7,
     "metadata": {},
     "output_type": "execute_result"
    }
   ],
   "source": [
    "hs.plot.plot_images(imgs, per_row=2, axes_decor=\"off\")"
   ]
  },
  {
   "cell_type": "markdown",
   "metadata": {},
   "source": [
    "Now lets create 4 spectral signals composed of randomly distributed and weighted gaussians\n",
    "\n",
    "\n"
   ]
  },
  {
   "cell_type": "code",
   "execution_count": 14,
   "metadata": {},
   "outputs": [],
   "source": [
    "spectra = []\n",
    "spectra_c = []\n",
    "sd = hs.signals.Signal1D(np.zeros((4096,)))\n",
    "sd.axes_manager[-1].units = \"eV\"\n",
    "sd.axes_manager[-1].name = \"Energy\"\n",
    "\n",
    "for i in range(4):\n",
    "    m = sd.create_model()\n",
    "    for position in np.random.randint(0, 4096, size=np.random.randint(8, 20)):\n",
    "        m.append(\n",
    "            hs.model.components1D.GaussianHF(\n",
    "                centre=position,\n",
    "                fwhm=np.random.randint(10, 500),\n",
    "                height=np.random.randint(1, 100)))\n",
    "    spectra.append(m.as_signal())\n",
    "    spectra_c.append(\n",
    "        hs.model.components1D.ScalableFixedPattern(\n",
    "            signal1D=spectra[-1], interpolate=False))\n",
    "    spectra_c[-1].shift.free = False\n",
    "    spectra_c[-1].xscale.free = False\n",
    "    spectra_c[-1].name = str(i)\n",
    "spectra = hs.stack(spectra)\n",
    "ax = hs.plot.plot_spectra(spectra, style=\"cascade\")"
   ]
  },
  {
   "cell_type": "code",
   "execution_count": 15,
   "metadata": {},
   "outputs": [],
   "source": [
    "imgsr = imgs\n",
    "# imgsr = imgs.rebin((4, 256, 256))\n",
    "# imgsr = imgs.rebin((4, 64, 64))"
   ]
  },
  {
   "cell_type": "markdown",
   "metadata": {},
   "source": [
    "Create a *lazy* spectrum image"
   ]
  },
  {
   "cell_type": "code",
   "execution_count": 16,
   "metadata": {},
   "outputs": [
    {
     "name": "stderr",
     "output_type": "stream",
     "text": [
      "/home/francisco/anaconda/anaconda/lib/python3.6/site-packages/dask/array/core.py:2539: UserWarning: Increasing number of chunks by factor of 16\n",
      "  (nparts / max_parts))\n",
      "/home/francisco/anaconda/anaconda/lib/python3.6/site-packages/dask/array/core.py:2539: UserWarning: Increasing number of chunks by factor of 16\n",
      "  (nparts / max_parts))\n",
      "/home/francisco/anaconda/anaconda/lib/python3.6/site-packages/dask/array/core.py:2539: UserWarning: Increasing number of chunks by factor of 16\n",
      "  (nparts / max_parts))\n",
      "/home/francisco/anaconda/anaconda/lib/python3.6/site-packages/dask/array/core.py:2539: UserWarning: Increasing number of chunks by factor of 16\n",
      "  (nparts / max_parts))\n"
     ]
    }
   ],
   "source": [
    "SIs = []\n",
    "for spectrum, image in zip(spectra, imgsr):\n",
    "    iml = image.T\n",
    "    iml.data = da.from_array(iml.data, chunks=(128, 128))\n",
    "    spectrum.data = da.from_array(spectrum.data, chunks=(128))\n",
    "    SIs.append(iml.as_lazy() * spectrum.as_lazy())"
   ]
  },
  {
   "cell_type": "code",
   "execution_count": 17,
   "metadata": {},
   "outputs": [],
   "source": [
    "s = SIs[0] + SIs[1] + SIs[2] + SIs[3] "
   ]
  },
  {
   "cell_type": "code",
   "execution_count": 18,
   "metadata": {},
   "outputs": [
    {
     "name": "stdout",
     "output_type": "stream",
     "text": [
      "((128, 128, 128, 128), (128, 128, 128, 128), (128, 128, 128, 128, 128, 128, 128, 128, 128, 128, 128, 128, 128, 128, 128, 128, 128, 128, 128, 128, 128, 128, 128, 128, 128, 128, 128, 128, 128, 128, 128, 128))\n"
     ]
    }
   ],
   "source": [
    "print(s.data.chunks)"
   ]
  },
  {
   "cell_type": "markdown",
   "metadata": {},
   "source": [
    "Add *lazy* poisson noise"
   ]
  },
  {
   "cell_type": "code",
   "execution_count": 19,
   "metadata": {},
   "outputs": [],
   "source": [
    "s.data = da.random.poisson(s.data, chunks=s.data.chunks)"
   ]
  },
  {
   "cell_type": "code",
   "execution_count": 20,
   "metadata": {},
   "outputs": [
    {
     "name": "stderr",
     "output_type": "stream",
     "text": [
      "INFO:hyperspy.io_plugins.hspy:Chunks used for saving: (16, 16, 128)\n",
      "INFO:hyperspy.io:The lazy_demo_data_h5py_chunking.hspy file was created\n"
     ]
    },
    {
     "name": "stdout",
     "output_type": "stream",
     "text": [
      "CPU times: user 4min 56s, sys: 1min 31s, total: 6min 28s\n",
      "Wall time: 2min 6s\n"
     ]
    }
   ],
   "source": [
    "%%time\n",
    "s.save(\"lazy_demo_data_h5py_chunking\", chunks=True)"
   ]
  },
  {
   "cell_type": "code",
   "execution_count": 21,
   "metadata": {},
   "outputs": [
    {
     "name": "stderr",
     "output_type": "stream",
     "text": [
      "INFO:hyperspy.io_plugins.hspy:Chunks used for saving: (4, 4, 4096)\n",
      "INFO:hyperspy.io:The lazy_demo_data_hyperspy_chunking.hspy file was created\n"
     ]
    },
    {
     "name": "stdout",
     "output_type": "stream",
     "text": [
      "CPU times: user 4min 55s, sys: 1min 31s, total: 6min 27s\n",
      "Wall time: 1min 56s\n"
     ]
    }
   ],
   "source": [
    "%%time\n",
    "s.save(\"lazy_demo_data_hyperspy_chunking\")"
   ]
  },
  {
   "cell_type": "code",
   "execution_count": 22,
   "metadata": {},
   "outputs": [
    {
     "name": "stderr",
     "output_type": "stream",
     "text": [
      "INFO:hyperspy.io_plugins.hspy:Chunks used for saving: (1, 512, 512)\n",
      "INFO:hyperspy.io:The lazy_demo_data_hyperspy_image_chunking.hspy file was created\n"
     ]
    }
   ],
   "source": [
    "s.T.save(\"lazy_demo_data_hyperspy_image_chunking\")"
   ]
  },
  {
   "cell_type": "code",
   "execution_count": 24,
   "metadata": {},
   "outputs": [
    {
     "name": "stderr",
     "output_type": "stream",
     "text": [
      "INFO:hyperspy.io_plugins.hspy:Chunks used for saving: (128, 16, 16)\n",
      "INFO:hyperspy.io:The lazy_demo_data_h5py_image_chunking.hspy file was created\n"
     ]
    }
   ],
   "source": [
    "s.T.save(\"lazy_demo_data_h5py_image_chunking\", chunks=True)"
   ]
  },
  {
   "cell_type": "code",
   "execution_count": null,
   "metadata": {},
   "outputs": [],
   "source": []
  },
  {
   "cell_type": "code",
   "execution_count": null,
   "metadata": {},
   "outputs": [],
   "source": []
  },
  {
   "cell_type": "code",
   "execution_count": null,
   "metadata": {},
   "outputs": [],
   "source": []
  },
  {
   "cell_type": "code",
   "execution_count": 19,
   "metadata": {},
   "outputs": [],
   "source": [
    "s.plot(navigator=None)"
   ]
  },
  {
   "cell_type": "code",
   "execution_count": null,
   "metadata": {},
   "outputs": [],
   "source": []
  }
 ],
 "metadata": {
  "kernelspec": {
   "display_name": "Python 3",
   "language": "python",
   "name": "python3"
  },
  "language_info": {
   "codemirror_mode": {
    "name": "ipython",
    "version": 3
   },
   "file_extension": ".py",
   "mimetype": "text/x-python",
   "name": "python",
   "nbconvert_exporter": "python",
   "pygments_lexer": "ipython3",
   "version": "3.6.6"
  },
  "toc": {
   "nav_menu": {},
   "number_sections": true,
   "sideBar": true,
   "skip_h1_title": false,
   "title_cell": "Table of Contents",
   "title_sidebar": "Contents",
   "toc_cell": true,
   "toc_position": {},
   "toc_section_display": true,
   "toc_window_display": false
  }
 },
 "nbformat": 4,
 "nbformat_minor": 2
}
